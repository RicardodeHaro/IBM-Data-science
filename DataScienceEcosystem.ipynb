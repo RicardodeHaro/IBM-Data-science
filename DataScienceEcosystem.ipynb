{
 "cells": [
  {
   "cell_type": "markdown",
   "id": "de7a4f95-c766-4be1-9853-3dbe473a7cd0",
   "metadata": {},
   "source": [
    "# Data Science Tools and Ecosystem"
   ]
  },
  {
   "cell_type": "markdown",
   "id": "f8d4ead7-74a1-47e9-aae9-66097d111671",
   "metadata": {},
   "source": [
    "### Autor: \n",
    "Ricardo de Haro Nolasco"
   ]
  },
  {
   "cell_type": "markdown",
   "id": "b401470b-334e-466d-9628-1ee345bd5707",
   "metadata": {},
   "source": [
    "In this notebook, Data Science Tools and Ecosystems are summarized. For data science, multiple tools are used to highlight each of the stages of a data science project. Some of them stand out in data visualization, data processing, model creation and implementation, among others."
   ]
  },
  {
   "cell_type": "markdown",
   "id": "d08aca7b-9b9c-43cc-a619-f02de6135fdb",
   "metadata": {},
   "source": [
    "**Objectives**\n",
    "* Make a notebook with examples of the most used tools in data science.\n",
    "* Learn how to format markdown cells\n",
    "* Practice the use of jupyter notebook\n",
    "* Learn how to make tables in markdown\n",
    "* Learn how to run code in jupyter cells\n"
   ]
  },
  {
   "cell_type": "markdown",
   "id": "cdeebfc0-c3e0-4496-ad15-04601291bda1",
   "metadata": {},
   "source": [
    "Some of the popular languages that Data Scientist use are:\n",
    "1. Python\n",
    "2. R\n",
    "3. Java\n",
    "4. Scala\n",
    "5. SQL"
   ]
  },
  {
   "cell_type": "markdown",
   "id": "edd6a2d0-0de9-43d1-9213-cbfe9d4ddb2a",
   "metadata": {},
   "source": [
    "Some of the commonly used libraries used by Data Scientists include:\n",
    "- In Python:\n",
    "    1.  Numpy\n",
    "    2.  Pandas\n",
    "    3.  Matplotlib\n",
    "    4.  Scikit-learn\n",
    "    5.  TensorFlow\n",
    "\n",
    "- In R\n",
    "    1. ggplot2\n",
    "    2. dplyr\n",
    "    3. tidyr\n",
    "    4. readr\n",
    "    5. caret\n"
   ]
  },
  {
   "cell_type": "markdown",
   "id": "66fd630d-52e4-47d6-8ae5-e4a8b63f0a12",
   "metadata": {},
   "source": [
    "|Data science Tools|\n",
    "--------------------\n",
    "|Jupyter Notebook|\n",
    "|Rstudio|\n",
    "|Apache Zeppelin|\n"
   ]
  },
  {
   "cell_type": "markdown",
   "id": "0148e20f-b6ce-409e-9585-aeca8ad58e64",
   "metadata": {},
   "source": [
    "### Below are a few examples of evaluating arithmetic expressions in Python."
   ]
  },
  {
   "cell_type": "code",
   "execution_count": 1,
   "id": "e2813724-4bd5-430d-83ff-5c522a2c4402",
   "metadata": {},
   "outputs": [
    {
     "data": {
      "text/plain": [
       "17"
      ]
     },
     "execution_count": 1,
     "metadata": {},
     "output_type": "execute_result"
    }
   ],
   "source": [
    "# This a simple arithmetic expression to mutiply then add integers.\n",
    "(3*4)+5"
   ]
  },
  {
   "cell_type": "code",
   "execution_count": 2,
   "id": "3364a75f-e0f0-4407-aad6-3fed7a40c65c",
   "metadata": {},
   "outputs": [
    {
     "data": {
      "text/plain": [
       "3.3333333333333335"
      ]
     },
     "execution_count": 2,
     "metadata": {},
     "output_type": "execute_result"
    }
   ],
   "source": [
    "# This will convert 200 minutes to hours by diving by 60\n",
    "200/60"
   ]
  }
 ],
 "metadata": {
  "kernelspec": {
   "display_name": "Python 3 (ipykernel)",
   "language": "python",
   "name": "python3"
  },
  "language_info": {
   "codemirror_mode": {
    "name": "ipython",
    "version": 3
   },
   "file_extension": ".py",
   "mimetype": "text/x-python",
   "name": "python",
   "nbconvert_exporter": "python",
   "pygments_lexer": "ipython3",
   "version": "3.11.7"
  }
 },
 "nbformat": 4,
 "nbformat_minor": 5
}
